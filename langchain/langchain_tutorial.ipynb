{
 "cells": [
  {
   "cell_type": "code",
   "execution_count": 1,
   "metadata": {},
   "outputs": [],
   "source": [
    "from dotenv import load_dotenv"
   ]
  },
  {
   "cell_type": "code",
   "execution_count": 2,
   "metadata": {},
   "outputs": [
    {
     "data": {
      "text/plain": [
       "True"
      ]
     },
     "execution_count": 2,
     "metadata": {},
     "output_type": "execute_result"
    }
   ],
   "source": [
    "load_dotenv()"
   ]
  },
  {
   "cell_type": "code",
   "execution_count": null,
   "metadata": {},
   "outputs": [],
   "source": [
    "os.environ['GROQ_API_KEY'] = os.getenv('GROQ_API_KEY')\n"
   ]
  },
  {
   "cell_type": "code",
   "execution_count": null,
   "metadata": {},
   "outputs": [],
   "source": [
    "from langchain_google_genai import ChatGoogleGenerativeAI\n",
    "from langchain_groq import ChatGroq\n",
    "from langchain_openai import ChatOpenAI\n",
    "#from langchain_anthropic import ChatAnthropic\n",
    "from langchain_huggingface import ChatHuggingFace, HuggingFaceEndpoint"
   ]
  },
  {
   "cell_type": "code",
   "execution_count": 10,
   "metadata": {},
   "outputs": [
    {
     "name": "stderr",
     "output_type": "stream",
     "text": [
      "Note: Environment variable`HF_TOKEN` is set and is the current active token independently from the token you've just configured.\n"
     ]
    }
   ],
   "source": [
    "llm=HuggingFaceEndpoint(repo_id=\"TinyLlama/TinyLlama-1.1B-Chat-v1.0\",task=\"text-generation\")"
   ]
  },
  {
   "cell_type": "code",
   "execution_count": 11,
   "metadata": {},
   "outputs": [],
   "source": [
    "model=ChatHuggingFace(llm=llm)"
   ]
  },
  {
   "cell_type": "code",
   "execution_count": 13,
   "metadata": {},
   "outputs": [
    {
     "data": {
      "text/plain": [
       "'Capital of the United States of America is Washington D.C. It was named after George Washington, the first president of the country.\\n\\nUSA also has 50 different states, and each state is ruled by an elected governor to the nation. New York, the most populous city in the United States, is included in the state of New York.\\n\\nThere are 50 United States territories and possessions, which are collectively known as the United States Virgin Islands. All the territories of the U.S. Other than the District of Columbia and Puerto Rico are considered political divisions of the country. The territories were home to a significant part of the English and American populations before the American revolution, but became independent countries after independence became a reality in 1789.'"
      ]
     },
     "execution_count": 13,
     "metadata": {},
     "output_type": "execute_result"
    }
   ],
   "source": [
    "model.invoke(\"what is capital of USA?\").content"
   ]
  },
  {
   "cell_type": "code",
   "execution_count": 14,
   "metadata": {},
   "outputs": [],
   "source": [
    "gemini_model=ChatGoogleGenerativeAI(model='gemini-1.5-pro')"
   ]
  },
  {
   "cell_type": "code",
   "execution_count": 15,
   "metadata": {},
   "outputs": [
    {
     "data": {
      "text/plain": [
       "AIMessage(content='The capital of the USA is Washington, D.C. (District of Columbia).', additional_kwargs={}, response_metadata={'prompt_feedback': {'block_reason': 0, 'safety_ratings': []}, 'finish_reason': 'STOP', 'safety_ratings': []}, id='run-331c493b-ac8d-4d5b-9c98-d04792f9a8ca-0', usage_metadata={'input_tokens': 6, 'output_tokens': 18, 'total_tokens': 24, 'input_token_details': {'cache_read': 0}})"
      ]
     },
     "execution_count": 15,
     "metadata": {},
     "output_type": "execute_result"
    }
   ],
   "source": [
    "gemini_model.invoke(\"what is capital of USA?\")"
   ]
  },
  {
   "cell_type": "code",
   "execution_count": 17,
   "metadata": {},
   "outputs": [],
   "source": [
    "groq_model=ChatGroq(model=\"deepseek-r1-distill-llama-70b\")"
   ]
  },
  {
   "cell_type": "code",
   "execution_count": 18,
   "metadata": {},
   "outputs": [
    {
     "data": {
      "text/plain": [
       "AIMessage(content=\"<think>\\nOkay, so I need to figure out what the capital of the USA is. Hmm, I'm not entirely sure, but I think it's a city I've heard of before. Let me try to remember. I know that the USA is a big country with many states, and each state has its own capital. But the country itself has a federal capital where the main government is located.\\n\\nI remember learning that the capital isn't one of the biggest cities like New York or Los Angeles. Maybe it's somewhere on the East Coast? I think I've heard the name Washington before, but I'm not sure if that's the state or the city. Wait, there's a state called Washington, but I also remember there's a city called Washington D.C. D.C. stands for District of Columbia, right?\\n\\nSo, Washington D.C. is the capital. But why is it called District of Columbia? Maybe it's a special area that isn't part of any state, created specifically to be the capital. That makes sense because I think other countries have similar setups where the capital is a separate entity, not part of a state or province.\\n\\nLet me double-check. I know that the White House is in Washington D.C., and that's where the President lives. So, that must be the capital. Also, there are a lot of monuments and government buildings there, like the Capitol Building where Congress meets. Yeah, that all points to Washington D.C. being the capital.\\n\\nI was a bit confused at first because I mixed up the state of Washington with Washington D.C., but now I realize they're two different places. The state is in the Pacific Northwest, while the capital is on the East Coast. So, to clarify, the capital of the USA is Washington, D.C., which stands for Washington District of Columbia.\\n\\nI think I've got it now. The capital isn't a state; it's a federal district. That's why it's called Washington D.C. and not just Washington. It's a unique area that serves as the seat of the federal government. So, whenever someone asks for the capital of the USA, the answer is Washington, D.C.\\n</think>\\n\\nThe capital of the United States of America is Washington, D.C. (District of Columbia). This city is a federal district that serves as the permanent capital, distinct from the state of Washington located in the Pacific Northwest. Washington D.C. is home to key government institutions such as the White House and the U.S. Capitol, making it the seat of the federal government.\", additional_kwargs={}, response_metadata={'token_usage': {'completion_tokens': 522, 'prompt_tokens': 8, 'total_tokens': 530, 'completion_time': 1.8981818179999999, 'prompt_time': 0.00363407, 'queue_time': 0.054709878999999996, 'total_time': 1.901815888}, 'model_name': 'deepseek-r1-distill-llama-70b', 'system_fingerprint': 'fp_2834edf0f4', 'finish_reason': 'stop', 'logprobs': None}, id='run-b046ad93-ae7b-4227-9249-a0732e0d9975-0', usage_metadata={'input_tokens': 8, 'output_tokens': 522, 'total_tokens': 530})"
      ]
     },
     "execution_count": 18,
     "metadata": {},
     "output_type": "execute_result"
    }
   ],
   "source": [
    "groq_model.invoke(\"what is capital of USA\")"
   ]
  },
  {
   "cell_type": "code",
   "execution_count": 19,
   "metadata": {},
   "outputs": [],
   "source": [
    "openai_model=ChatOpenAI(model=\"gpt-4\")"
   ]
  },
  {
   "cell_type": "code",
   "execution_count": 20,
   "metadata": {},
   "outputs": [
    {
     "data": {
      "text/plain": [
       "AIMessage(content='The capital of the USA is Washington, D.C.', additional_kwargs={'refusal': None}, response_metadata={'token_usage': {'completion_tokens': 12, 'prompt_tokens': 12, 'total_tokens': 24, 'completion_tokens_details': {'accepted_prediction_tokens': 0, 'audio_tokens': 0, 'reasoning_tokens': 0, 'rejected_prediction_tokens': 0}, 'prompt_tokens_details': {'audio_tokens': 0, 'cached_tokens': 0}}, 'model_name': 'gpt-4-0613', 'system_fingerprint': None, 'finish_reason': 'stop', 'logprobs': None}, id='run-93f745b4-3791-4447-85a3-2deebe2ae55c-0', usage_metadata={'input_tokens': 12, 'output_tokens': 12, 'total_tokens': 24, 'input_token_details': {'audio': 0, 'cache_read': 0}, 'output_token_details': {'audio': 0, 'reasoning': 0}})"
      ]
     },
     "execution_count": 20,
     "metadata": {},
     "output_type": "execute_result"
    }
   ],
   "source": [
    "openai_model.invoke(\"what is capital of USA\")"
   ]
  },
  {
   "cell_type": "code",
   "execution_count": null,
   "metadata": {},
   "outputs": [],
   "source": []
  }
 ],
 "metadata": {
  "kernelspec": {
   "display_name": "Python 3",
   "language": "python",
   "name": "python3"
  },
  "language_info": {
   "codemirror_mode": {
    "name": "ipython",
    "version": 3
   },
   "file_extension": ".py",
   "mimetype": "text/x-python",
   "name": "python",
   "nbconvert_exporter": "python",
   "pygments_lexer": "ipython3",
   "version": "3.10.16"
  }
 },
 "nbformat": 4,
 "nbformat_minor": 2
}
